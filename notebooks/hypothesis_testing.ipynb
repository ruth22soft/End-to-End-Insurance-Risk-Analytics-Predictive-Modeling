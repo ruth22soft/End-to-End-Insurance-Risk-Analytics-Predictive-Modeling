{
 "cells": [
  {
   "cell_type": "markdown",
   "metadata": {},
   "source": [
    "# A/B - Hypothesis Testing\n",
    "\n",
    "A/B Testing: Conduct experiments to compare different insurance offerings or marketing strategies, evaluating their impact on customer engagement and policy uptake.\n",
    "\n",
    "Hypothesis Testing: Formulate and test hypotheses to validate assumptions about factors influencing insurance claims and premiums, such as regional preferences or policyholder demographics."
   ]
  },
  {
   "cell_type": "code",
   "execution_count": 2,
   "metadata": {},
   "outputs": [],
   "source": [
    "# Import libraries\n",
    "import pandas as pd\n",
    "import numpy as np\n",
    "import seaborn as sns\n",
    "import matplotlib.pyplot as plt\n",
    "import scipy.stats as stats\n",
    "import os, sys\n",
    "# Add the 'scripts' directory to the Python path for module imports\n",
    "sys.path.append(os.path.abspath(os.path.join('..', 'scripts')))"
   ]
  },
  {
   "cell_type": "code",
   "execution_count": 3,
   "metadata": {},
   "outputs": [],
   "source": [
    "# Read the dataset\n",
    "df = pd.read_csv('../data/cleaned_data.csv', low_memory=False, index_col=False)"
   ]
  },
  {
   "cell_type": "code",
   "execution_count": 4,
   "metadata": {},
   "outputs": [
    {
     "name": "stdout",
     "output_type": "stream",
     "text": [
      "--- Risk Differences Across Provinces ---\n",
      "Chi-squared test on Province and TotalPremium: chi2 = 1675877.9839662637, p-value = 0.0\n",
      "Reject the null hypothesis.\n",
      "\n",
      "--- Risk Differences Between Postal Codes ---\n",
      "Chi-squared test on PostalCode and TotalPremium: chi2 = 143288895.37515512, p-value = 0.0\n",
      "Reject the null hypothesis.\n",
      "\n",
      "--- Margin Differences Between Postal Codes ---\n",
      "Z-test on TotalPremium: Z-statistic = -0.3023831651839944, p-value = 0.7623599866851525\n",
      "Fail to reject the null hypothesis.\n",
      "\n",
      "--- Risk Differences Between Women and Men ---\n",
      "T-test on TotalPremium: T-statistic = -0.36532231271147997, p-value = 0.7148723832930138\n",
      "Fail to reject the null hypothesis.\n",
      "\n"
     ]
    }
   ],
   "source": [
    "# Initialize the class\n",
    "from hypothesis_testing import ABHypothesisTesting\n",
    "ab_test = ABHypothesisTesting(df)\n",
    "\n",
    "# Run all tests and print results in a human-readable format\n",
    "results = ab_test.run_all_tests()\n",
    "\n",
    "for test_name, result in results.items():\n",
    "    print(f'--- {test_name} ---')\n",
    "    print(result)\n",
    "    print()  # Print a newline for better readability"
   ]
  }
 ],
 "metadata": {
  "kernelspec": {
   "display_name": ".venv",
   "language": "python",
   "name": "python3"
  },
  "language_info": {
   "codemirror_mode": {
    "name": "ipython",
    "version": 3
   },
   "file_extension": ".py",
   "mimetype": "text/x-python",
   "name": "python",
   "nbconvert_exporter": "python",
   "pygments_lexer": "ipython3",
   "version": "3.12.3"
  }
 },
 "nbformat": 4,
 "nbformat_minor": 2
}
